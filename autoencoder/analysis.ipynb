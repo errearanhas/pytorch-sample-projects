{
 "cells": [
  {
   "cell_type": "code",
   "execution_count": 1,
   "id": "fb8c8fd3-edd0-498a-a4b1-6581fc1e1315",
   "metadata": {
    "tags": []
   },
   "outputs": [],
   "source": [
    "import torch\n",
    "import numpy as np\n",
    "import matplotlib.pyplot as plt\n",
    "import pandas as pd\n",
    "from torch import nn\n",
    "from torch.utils.data import Dataset, DataLoader\n",
    "from torchsummary import summary\n",
    "from tqdm import tqdm\n",
    "import helper\n",
    "import configparser\n",
    "import os"
   ]
  },
  {
   "cell_type": "code",
   "execution_count": 2,
   "id": "5f7a421a-adb9-4ca6-b0be-9d6f3e097248",
   "metadata": {
    "tags": []
   },
   "outputs": [
    {
     "data": {
      "text/plain": [
       "<module 'helper' from '/projetos/dx4o/pytorch/autoencoder/helper.py'>"
      ]
     },
     "execution_count": 2,
     "metadata": {},
     "output_type": "execute_result"
    }
   ],
   "source": [
    "import importlib\n",
    "importlib.reload(helper)"
   ]
  },
  {
   "cell_type": "code",
   "execution_count": 47,
   "id": "01aac71b-0dd1-4e98-8e7e-14b1a644df43",
   "metadata": {
    "tags": []
   },
   "outputs": [],
   "source": [
    "# =====================\n",
    "# GET CONFIG VARIABLES\n",
    "# =====================\n",
    "\n",
    "config = configparser.ConfigParser()\n",
    "config.read('config.ini')\n",
    "\n",
    "BatchSize = config.getint('TRAIN', 'BatchSize')\n",
    "Epochs = config.getint('TRAIN', 'Epochs')\n",
    "LearningRate = config.getfloat('TRAIN', 'LearningRate')\n",
    "file = config.get('TRAIN', 'TrainFile')\n",
    "device = config.get('TRAIN', 'Device')\n",
    "\n",
    "dirname = os.path.dirname(\"__file__\")\n",
    "FILE_PATH = os.path.join(dirname, file)\n",
    "DEVICE = device\n",
    "BATCH_SIZE = BatchSize\n",
    "EPOCHS = Epochs\n",
    "LR = LearningRate"
   ]
  },
  {
   "cell_type": "markdown",
   "id": "7595d840-4230-4d94-8489-c332152865bf",
   "metadata": {},
   "source": [
    "### EXPLORE DATASET"
   ]
  },
  {
   "cell_type": "code",
   "execution_count": 48,
   "id": "fa8cf0e0-eeba-43e4-94c5-79029df29394",
   "metadata": {
    "tags": []
   },
   "outputs": [],
   "source": [
    "data = pd.read_csv(FILE_PATH)"
   ]
  },
  {
   "cell_type": "code",
   "execution_count": 49,
   "id": "760cbeb1-1c97-4210-8bf3-37902cfcfc04",
   "metadata": {
    "tags": []
   },
   "outputs": [
    {
     "data": {
      "text/html": [
       "<div>\n",
       "<style scoped>\n",
       "    .dataframe tbody tr th:only-of-type {\n",
       "        vertical-align: middle;\n",
       "    }\n",
       "\n",
       "    .dataframe tbody tr th {\n",
       "        vertical-align: top;\n",
       "    }\n",
       "\n",
       "    .dataframe thead th {\n",
       "        text-align: right;\n",
       "    }\n",
       "</style>\n",
       "<table border=\"1\" class=\"dataframe\">\n",
       "  <thead>\n",
       "    <tr style=\"text-align: right;\">\n",
       "      <th></th>\n",
       "      <th>pixel0</th>\n",
       "      <th>pixel1</th>\n",
       "      <th>pixel2</th>\n",
       "      <th>pixel3</th>\n",
       "      <th>pixel4</th>\n",
       "      <th>pixel5</th>\n",
       "      <th>pixel6</th>\n",
       "      <th>pixel7</th>\n",
       "      <th>pixel8</th>\n",
       "      <th>pixel9</th>\n",
       "      <th>...</th>\n",
       "      <th>pixel774</th>\n",
       "      <th>pixel775</th>\n",
       "      <th>pixel776</th>\n",
       "      <th>pixel777</th>\n",
       "      <th>pixel778</th>\n",
       "      <th>pixel779</th>\n",
       "      <th>pixel780</th>\n",
       "      <th>pixel781</th>\n",
       "      <th>pixel782</th>\n",
       "      <th>pixel783</th>\n",
       "    </tr>\n",
       "  </thead>\n",
       "  <tbody>\n",
       "    <tr>\n",
       "      <th>0</th>\n",
       "      <td>0</td>\n",
       "      <td>0</td>\n",
       "      <td>0</td>\n",
       "      <td>0</td>\n",
       "      <td>0</td>\n",
       "      <td>0</td>\n",
       "      <td>0</td>\n",
       "      <td>0</td>\n",
       "      <td>0</td>\n",
       "      <td>0</td>\n",
       "      <td>...</td>\n",
       "      <td>0</td>\n",
       "      <td>0</td>\n",
       "      <td>0</td>\n",
       "      <td>0</td>\n",
       "      <td>0</td>\n",
       "      <td>0</td>\n",
       "      <td>0</td>\n",
       "      <td>0</td>\n",
       "      <td>0</td>\n",
       "      <td>0</td>\n",
       "    </tr>\n",
       "    <tr>\n",
       "      <th>1</th>\n",
       "      <td>0</td>\n",
       "      <td>0</td>\n",
       "      <td>0</td>\n",
       "      <td>0</td>\n",
       "      <td>0</td>\n",
       "      <td>0</td>\n",
       "      <td>0</td>\n",
       "      <td>0</td>\n",
       "      <td>0</td>\n",
       "      <td>0</td>\n",
       "      <td>...</td>\n",
       "      <td>0</td>\n",
       "      <td>0</td>\n",
       "      <td>0</td>\n",
       "      <td>0</td>\n",
       "      <td>0</td>\n",
       "      <td>0</td>\n",
       "      <td>0</td>\n",
       "      <td>0</td>\n",
       "      <td>0</td>\n",
       "      <td>0</td>\n",
       "    </tr>\n",
       "    <tr>\n",
       "      <th>2</th>\n",
       "      <td>0</td>\n",
       "      <td>0</td>\n",
       "      <td>0</td>\n",
       "      <td>0</td>\n",
       "      <td>0</td>\n",
       "      <td>0</td>\n",
       "      <td>0</td>\n",
       "      <td>0</td>\n",
       "      <td>0</td>\n",
       "      <td>0</td>\n",
       "      <td>...</td>\n",
       "      <td>0</td>\n",
       "      <td>0</td>\n",
       "      <td>0</td>\n",
       "      <td>0</td>\n",
       "      <td>0</td>\n",
       "      <td>0</td>\n",
       "      <td>0</td>\n",
       "      <td>0</td>\n",
       "      <td>0</td>\n",
       "      <td>0</td>\n",
       "    </tr>\n",
       "    <tr>\n",
       "      <th>3</th>\n",
       "      <td>0</td>\n",
       "      <td>0</td>\n",
       "      <td>0</td>\n",
       "      <td>0</td>\n",
       "      <td>0</td>\n",
       "      <td>0</td>\n",
       "      <td>0</td>\n",
       "      <td>0</td>\n",
       "      <td>0</td>\n",
       "      <td>0</td>\n",
       "      <td>...</td>\n",
       "      <td>0</td>\n",
       "      <td>0</td>\n",
       "      <td>0</td>\n",
       "      <td>0</td>\n",
       "      <td>0</td>\n",
       "      <td>0</td>\n",
       "      <td>0</td>\n",
       "      <td>0</td>\n",
       "      <td>0</td>\n",
       "      <td>0</td>\n",
       "    </tr>\n",
       "    <tr>\n",
       "      <th>4</th>\n",
       "      <td>0</td>\n",
       "      <td>0</td>\n",
       "      <td>0</td>\n",
       "      <td>0</td>\n",
       "      <td>0</td>\n",
       "      <td>0</td>\n",
       "      <td>0</td>\n",
       "      <td>0</td>\n",
       "      <td>0</td>\n",
       "      <td>0</td>\n",
       "      <td>...</td>\n",
       "      <td>0</td>\n",
       "      <td>0</td>\n",
       "      <td>0</td>\n",
       "      <td>0</td>\n",
       "      <td>0</td>\n",
       "      <td>0</td>\n",
       "      <td>0</td>\n",
       "      <td>0</td>\n",
       "      <td>0</td>\n",
       "      <td>0</td>\n",
       "    </tr>\n",
       "  </tbody>\n",
       "</table>\n",
       "<p>5 rows × 784 columns</p>\n",
       "</div>"
      ],
      "text/plain": [
       "   pixel0  pixel1  pixel2  pixel3  pixel4  pixel5  pixel6  pixel7  pixel8  \\\n",
       "0       0       0       0       0       0       0       0       0       0   \n",
       "1       0       0       0       0       0       0       0       0       0   \n",
       "2       0       0       0       0       0       0       0       0       0   \n",
       "3       0       0       0       0       0       0       0       0       0   \n",
       "4       0       0       0       0       0       0       0       0       0   \n",
       "\n",
       "   pixel9  ...  pixel774  pixel775  pixel776  pixel777  pixel778  pixel779  \\\n",
       "0       0  ...         0         0         0         0         0         0   \n",
       "1       0  ...         0         0         0         0         0         0   \n",
       "2       0  ...         0         0         0         0         0         0   \n",
       "3       0  ...         0         0         0         0         0         0   \n",
       "4       0  ...         0         0         0         0         0         0   \n",
       "\n",
       "   pixel780  pixel781  pixel782  pixel783  \n",
       "0         0         0         0         0  \n",
       "1         0         0         0         0  \n",
       "2         0         0         0         0  \n",
       "3         0         0         0         0  \n",
       "4         0         0         0         0  \n",
       "\n",
       "[5 rows x 784 columns]"
      ]
     },
     "execution_count": 49,
     "metadata": {},
     "output_type": "execute_result"
    }
   ],
   "source": [
    "data.head()"
   ]
  },
  {
   "cell_type": "code",
   "execution_count": 50,
   "id": "458d0a50-6ac5-4c45-aced-34d286e7ba68",
   "metadata": {
    "tags": []
   },
   "outputs": [
    {
     "data": {
      "text/plain": [
       "<matplotlib.image.AxesImage at 0x2abaca873190>"
      ]
     },
     "execution_count": 50,
     "metadata": {},
     "output_type": "execute_result"
    },
    {
     "data": {
      "image/png": "[encoded data removed]",
      "text/plain": [
       "<Figure size 640x480 with 1 Axes>"
      ]
     },
     "metadata": {},
     "output_type": "display_data"
    }
   ],
   "source": [
    "n = 18\n",
    "\n",
    "image = data.iloc[n]\n",
    "image = np.array(image).astype(\"float32\")\n",
    "\n",
    "# (784,) -> (28x28)\n",
    "image = np.reshape(image, (28, 28))\n",
    "image = image / 255.0\n",
    "\n",
    "plt.imshow(image, cmap = \"gray\")"
   ]
  },
  {
   "cell_type": "code",
   "execution_count": 51,
   "id": "e824d344-3af6-41c4-a4ae-07c8c0182619",
   "metadata": {
    "tags": []
   },
   "outputs": [],
   "source": [
    "noisy_image = image + 0.2 * np.random.randn(*image.shape)\n",
    "noisy_image = np.clip(noisy_image, 0, 1)"
   ]
  },
  {
   "cell_type": "code",
   "execution_count": 52,
   "id": "2fe2099f-3280-4ab0-bef0-fb92a6434bdc",
   "metadata": {
    "tags": []
   },
   "outputs": [
    {
     "data": {
      "text/plain": [
       "<matplotlib.image.AxesImage at 0x2abaca4cd070>"
      ]
     },
     "execution_count": 52,
     "metadata": {},
     "output_type": "execute_result"
    },
    {
     "data": {
      "image/png": "[encoded data removed]",
      "text/plain": [
       "<Figure size 640x480 with 1 Axes>"
      ]
     },
     "metadata": {},
     "output_type": "display_data"
    }
   ],
   "source": [
    "plt.imshow(noisy_image, cmap = \"gray\")"
   ]
  },
  {
   "cell_type": "markdown",
   "id": "56b63f87-4f8d-42fa-8bab-71f54166ddad",
   "metadata": {
    "tags": []
   },
   "source": [
    "### DATA PREPARATION"
   ]
  },
  {
   "cell_type": "code",
   "execution_count": 53,
   "id": "c2aaf743-a9c2-4866-acd1-2bbcb66fd762",
   "metadata": {
    "tags": []
   },
   "outputs": [],
   "source": [
    "class MNIST_AE_Dataset(Dataset):\n",
    "    \n",
    "    def __init__(self, csv_file, noise_factor=0.2, transform=None):\n",
    "        \n",
    "        self.data = pd.read_csv(csv_file)\n",
    "        self.noise_factor = noise_factor\n",
    "        self.transform = transform\n",
    "        \n",
    "    def __len__(self):\n",
    "        return len(self.data)\n",
    "    \n",
    "    def __getitem__(self, idx):\n",
    "        \n",
    "        img = self.data.iloc[idx]\n",
    "        img = np.array(img).astype(\"float32\")\n",
    "        \n",
    "        img = np.reshape(img, (28, 28, 1)) / 255.0 # channel as 1\n",
    "        \n",
    "        noisy_img = img + self.noise_factor * np.random.randn(*img.shape)\n",
    "        noisy_img = np.clip(noisy_img, 0, 1)\n",
    "        \n",
    "        sample = (img, noisy_img)\n",
    "        \n",
    "        if self.transform:\n",
    "            sample = self.transform(sample)\n",
    "        \n",
    "        return sample"
   ]
  },
  {
   "cell_type": "code",
   "execution_count": 54,
   "id": "9681948c-c153-4db6-9b98-66155487981a",
   "metadata": {
    "tags": []
   },
   "outputs": [],
   "source": [
    "# convert numpy/PIL to torch tensor and (H, W, C) to (C, H, W)\n",
    "\n",
    "trainset = MNIST_AE_Dataset(FILE_PATH, transform=helper.ToTensorForAE())"
   ]
  },
  {
   "cell_type": "code",
   "execution_count": 55,
   "id": "00b2accc-f3ad-4a0f-a07d-b29708569366",
   "metadata": {
    "tags": []
   },
   "outputs": [
    {
     "name": "stdout",
     "output_type": "stream",
     "text": [
      "Size of trainset: 42000\n"
     ]
    }
   ],
   "source": [
    "print(f\"Size of trainset: {len(trainset)}\")"
   ]
  },
  {
   "cell_type": "code",
   "execution_count": 56,
   "id": "d329d2d0-92e0-432e-84bf-3645c11174fc",
   "metadata": {
    "tags": []
   },
   "outputs": [],
   "source": [
    "n = 7\n",
    "orig_img, noisy_img = trainset[n]"
   ]
  },
  {
   "cell_type": "code",
   "execution_count": 57,
   "id": "c8f4623c-6820-4396-aff4-ab9696bc16a5",
   "metadata": {
    "tags": []
   },
   "outputs": [
    {
     "data": {
      "image/png": "[encoded data removed]",
      "text/plain": [
       "<Figure size 1000x500 with 2 Axes>"
      ]
     },
     "metadata": {},
     "output_type": "display_data"
    }
   ],
   "source": [
    "helper.show_image(orig_img.squeeze(), noisy_img.squeeze())"
   ]
  },
  {
   "cell_type": "markdown",
   "id": "7df43bf4-0d51-4059-b35a-ad75c4dfcd48",
   "metadata": {},
   "source": [
    "### LOAD DATA INTO BATCHES"
   ]
  },
  {
   "cell_type": "code",
   "execution_count": 58,
   "id": "416d1bca-1b55-4b09-9159-dbc4a62e9e12",
   "metadata": {
    "tags": []
   },
   "outputs": [],
   "source": [
    "trainloader = DataLoader(trainset, batch_size=BATCH_SIZE, shuffle=True)"
   ]
  },
  {
   "cell_type": "code",
   "execution_count": 59,
   "id": "e79de8fe-2da2-4498-9736-01f1c28e87bd",
   "metadata": {
    "tags": []
   },
   "outputs": [
    {
     "name": "stdout",
     "output_type": "stream",
     "text": [
      "Shape of loading 1 batch: torch.Size([16, 1, 28, 28])\n",
      "Total number of batches: 2625\n",
      "Total number of examples in trainloader: 42000\n"
     ]
    }
   ],
   "source": [
    "for orig_img, noisy_img in trainloader:\n",
    "    break\n",
    "    \n",
    "print(f\"Shape of loading 1 batch: {noisy_img.shape}\")\n",
    "print(f\"Total number of batches: {len(trainloader)}\")\n",
    "print(f\"Total number of examples in trainloader: {len(trainloader.dataset)}\")"
   ]
  },
  {
   "cell_type": "markdown",
   "id": "d1218153-abfc-4059-adc7-315b15f19518",
   "metadata": {},
   "source": [
    "### DEFINE MODEL"
   ]
  },
  {
   "cell_type": "code",
   "execution_count": 66,
   "id": "536aec16-bf30-4c21-a649-f73c6e2d1f60",
   "metadata": {},
   "outputs": [],
   "source": [
    "def Encoder():\n",
    "    \n",
    "    enc = nn.Sequential(\n",
    "        \n",
    "        nn.Conv2d(in_channels=1, out_channels=16, kernel_size=(3, 3), padding=1),\n",
    "        nn.ReLU(),\n",
    "        nn.MaxPool2d(kernel_size=(2, 2)),\n",
    "        nn.Conv2d(in_channels=16, out_channels=32, kernel_size=(3, 3), padding=1),\n",
    "        nn.ReLU(),\n",
    "        nn.MaxPool2d(kernel_size=(2, 2))\n",
    "        )\n",
    "    return enc"
   ]
  },
  {
   "cell_type": "code",
   "execution_count": 67,
   "id": "f9f1c127-b9ee-4413-bd69-a4676c4ce558",
   "metadata": {},
   "outputs": [],
   "source": [
    "def Decoder():\n",
    "    \n",
    "    dec = nn.Sequential(\n",
    "        \n",
    "        nn.ConvTranspose2d(in_channels=32, out_channels=16, kernel_size=(2, 2), stride=2),\n",
    "        nn.ReLU(),\n",
    "        nn.ConvTranspose2d(in_channels=16, out_channels=1, kernel_size=(2, 2), stride=2),\n",
    "        nn.Sigmoid()\n",
    "    )\n",
    "    return dec\n"
   ]
  },
  {
   "cell_type": "code",
   "execution_count": 68,
   "id": "c5bb542f-cabe-4905-ae07-18d59432538f",
   "metadata": {},
   "outputs": [],
   "source": [
    "class AutoEncoder(nn.Module):\n",
    "    \n",
    "    def __init__(self):\n",
    "        super(AutoEncoder, self).__init__()\n",
    "        \n",
    "        self.encoder = Encoder()\n",
    "        self.decoder = Decoder()\n",
    "        \n",
    "    def forward(self, input_images):\n",
    "        encoder_out = self.encoder(input_images)\n",
    "        decoder_out = self.decoder(encoder_out)\n",
    "        \n",
    "        return decoder_out"
   ]
  },
  {
   "cell_type": "code",
   "execution_count": 70,
   "id": "aeba8dad-dd5b-4852-bfd0-b0c7d0ad0253",
   "metadata": {},
   "outputs": [
    {
     "data": {
      "text/plain": [
       "AutoEncoder(\n",
       "  (encoder): Sequential(\n",
       "    (0): Conv2d(1, 16, kernel_size=(3, 3), stride=(1, 1), padding=(1, 1))\n",
       "    (1): ReLU()\n",
       "    (2): MaxPool2d(kernel_size=(2, 2), stride=(2, 2), padding=0, dilation=1, ceil_mode=False)\n",
       "    (3): Conv2d(16, 32, kernel_size=(3, 3), stride=(1, 1), padding=(1, 1))\n",
       "    (4): ReLU()\n",
       "    (5): MaxPool2d(kernel_size=(2, 2), stride=(2, 2), padding=0, dilation=1, ceil_mode=False)\n",
       "  )\n",
       "  (decoder): Sequential(\n",
       "    (0): ConvTranspose2d(32, 16, kernel_size=(2, 2), stride=(2, 2))\n",
       "    (1): ReLU()\n",
       "    (2): ConvTranspose2d(16, 1, kernel_size=(2, 2), stride=(2, 2))\n",
       "    (3): Sigmoid()\n",
       "  )\n",
       ")"
      ]
     },
     "execution_count": 70,
     "metadata": {},
     "output_type": "execute_result"
    }
   ],
   "source": [
    "model = AutoEncoder()\n",
    "model.to(DEVICE)"
   ]
  },
  {
   "cell_type": "code",
   "execution_count": 74,
   "id": "536f4439-a5a0-4f10-8fb7-4cbde830638f",
   "metadata": {},
   "outputs": [
    {
     "name": "stdout",
     "output_type": "stream",
     "text": [
      "----------------------------------------------------------------\n",
      "        Layer (type)               Output Shape         Param #\n",
      "================================================================\n",
      "            Conv2d-1           [-1, 16, 28, 28]             160\n",
      "              ReLU-2           [-1, 16, 28, 28]               0\n",
      "         MaxPool2d-3           [-1, 16, 14, 14]               0\n",
      "            Conv2d-4           [-1, 32, 14, 14]           4,640\n",
      "              ReLU-5           [-1, 32, 14, 14]               0\n",
      "         MaxPool2d-6             [-1, 32, 7, 7]               0\n",
      "   ConvTranspose2d-7           [-1, 16, 14, 14]           2,064\n",
      "              ReLU-8           [-1, 16, 14, 14]               0\n",
      "   ConvTranspose2d-9            [-1, 1, 28, 28]              65\n",
      "          Sigmoid-10            [-1, 1, 28, 28]               0\n",
      "================================================================\n",
      "Total params: 6,929\n",
      "Trainable params: 6,929\n",
      "Non-trainable params: 0\n",
      "----------------------------------------------------------------\n",
      "Input size (MB): 0.00\n",
      "Forward/backward pass size (MB): 0.38\n",
      "Params size (MB): 0.03\n",
      "Estimated Total Size (MB): 0.41\n",
      "----------------------------------------------------------------\n"
     ]
    }
   ],
   "source": [
    "summary(model, input_size = (1, 28, 28))"
   ]
  },
  {
   "cell_type": "markdown",
   "id": "35a11171-6a3f-4a55-a54d-4889f177fe3b",
   "metadata": {
    "tags": []
   },
   "source": [
    "### TRAIN AUTOENCODER MODEL"
   ]
  },
  {
   "cell_type": "code",
   "execution_count": 77,
   "id": "ba7215f9-04cf-4ef8-84fd-73d4a669ded8",
   "metadata": {
    "tags": []
   },
   "outputs": [],
   "source": [
    "optimizer = torch.optim.Adam(model.parameters(), lr = LR)\n",
    "criterion = nn.MSELoss()"
   ]
  },
  {
   "cell_type": "code",
   "execution_count": 79,
   "id": "34a17d92-1382-4bd7-ba13-add99ba610be",
   "metadata": {
    "collapsed": true,
    "jupyter": {
     "outputs_hidden": true
    },
    "tags": []
   },
   "outputs": [
    {
     "name": "stderr",
     "output_type": "stream",
     "text": [
      "100%|██████████| 2625/2625 [00:13<00:00, 195.81it/s]\n"
     ]
    },
    {
     "name": "stdout",
     "output_type": "stream",
     "text": [
      "Epoch: 1 - Train Loss: 0.009194015241627182\n"
     ]
    },
    {
     "name": "stderr",
     "output_type": "stream",
     "text": [
      "100%|██████████| 2625/2625 [00:13<00:00, 194.88it/s]\n"
     ]
    },
    {
     "name": "stdout",
     "output_type": "stream",
     "text": [
      "Epoch: 2 - Train Loss: 0.005300719009978431\n"
     ]
    },
    {
     "name": "stderr",
     "output_type": "stream",
     "text": [
      "100%|██████████| 2625/2625 [00:13<00:00, 199.36it/s]\n"
     ]
    },
    {
     "name": "stdout",
     "output_type": "stream",
     "text": [
      "Epoch: 3 - Train Loss: 0.005048173863706844\n"
     ]
    },
    {
     "name": "stderr",
     "output_type": "stream",
     "text": [
      "100%|██████████| 2625/2625 [00:13<00:00, 196.41it/s]\n"
     ]
    },
    {
     "name": "stdout",
     "output_type": "stream",
     "text": [
      "Epoch: 4 - Train Loss: 0.004880338758851091\n"
     ]
    },
    {
     "name": "stderr",
     "output_type": "stream",
     "text": [
      "100%|██████████| 2625/2625 [00:13<00:00, 195.48it/s]\n"
     ]
    },
    {
     "name": "stdout",
     "output_type": "stream",
     "text": [
      "Epoch: 5 - Train Loss: 0.004760646193332615\n"
     ]
    },
    {
     "name": "stderr",
     "output_type": "stream",
     "text": [
      "100%|██████████| 2625/2625 [00:13<00:00, 193.49it/s]\n"
     ]
    },
    {
     "name": "stdout",
     "output_type": "stream",
     "text": [
      "Epoch: 6 - Train Loss: 0.004655125891346307\n"
     ]
    },
    {
     "name": "stderr",
     "output_type": "stream",
     "text": [
      "100%|██████████| 2625/2625 [00:13<00:00, 200.32it/s]\n"
     ]
    },
    {
     "name": "stdout",
     "output_type": "stream",
     "text": [
      "Epoch: 7 - Train Loss: 0.0045936181487604266\n"
     ]
    },
    {
     "name": "stderr",
     "output_type": "stream",
     "text": [
      "100%|██████████| 2625/2625 [00:12<00:00, 208.05it/s]\n"
     ]
    },
    {
     "name": "stdout",
     "output_type": "stream",
     "text": [
      "Epoch: 8 - Train Loss: 0.004547956461973843\n"
     ]
    },
    {
     "name": "stderr",
     "output_type": "stream",
     "text": [
      "100%|██████████| 2625/2625 [00:13<00:00, 193.10it/s]\n"
     ]
    },
    {
     "name": "stdout",
     "output_type": "stream",
     "text": [
      "Epoch: 9 - Train Loss: 0.004516336400150543\n"
     ]
    },
    {
     "name": "stderr",
     "output_type": "stream",
     "text": [
      "100%|██████████| 2625/2625 [00:13<00:00, 194.11it/s]\n"
     ]
    },
    {
     "name": "stdout",
     "output_type": "stream",
     "text": [
      "Epoch: 10 - Train Loss: 0.00447587684258109\n"
     ]
    },
    {
     "name": "stderr",
     "output_type": "stream",
     "text": [
      "100%|██████████| 2625/2625 [00:13<00:00, 195.30it/s]\n"
     ]
    },
    {
     "name": "stdout",
     "output_type": "stream",
     "text": [
      "Epoch: 11 - Train Loss: 0.004462183341029145\n"
     ]
    },
    {
     "name": "stderr",
     "output_type": "stream",
     "text": [
      "100%|██████████| 2625/2625 [00:13<00:00, 193.97it/s]\n"
     ]
    },
    {
     "name": "stdout",
     "output_type": "stream",
     "text": [
      "Epoch: 12 - Train Loss: 0.004425537407753013\n"
     ]
    },
    {
     "name": "stderr",
     "output_type": "stream",
     "text": [
      "100%|██████████| 2625/2625 [00:13<00:00, 193.35it/s]\n"
     ]
    },
    {
     "name": "stdout",
     "output_type": "stream",
     "text": [
      "Epoch: 13 - Train Loss: 0.004411996831496557\n"
     ]
    },
    {
     "name": "stderr",
     "output_type": "stream",
     "text": [
      "100%|██████████| 2625/2625 [00:13<00:00, 195.11it/s]\n"
     ]
    },
    {
     "name": "stdout",
     "output_type": "stream",
     "text": [
      "Epoch: 14 - Train Loss: 0.004397941252571486\n"
     ]
    },
    {
     "name": "stderr",
     "output_type": "stream",
     "text": [
      "100%|██████████| 2625/2625 [00:13<00:00, 194.52it/s]\n"
     ]
    },
    {
     "name": "stdout",
     "output_type": "stream",
     "text": [
      "Epoch: 15 - Train Loss: 0.004383843171809401\n"
     ]
    },
    {
     "name": "stderr",
     "output_type": "stream",
     "text": [
      "100%|██████████| 2625/2625 [00:13<00:00, 197.66it/s]\n"
     ]
    },
    {
     "name": "stdout",
     "output_type": "stream",
     "text": [
      "Epoch: 16 - Train Loss: 0.004375068030187062\n"
     ]
    },
    {
     "name": "stderr",
     "output_type": "stream",
     "text": [
      "100%|██████████| 2625/2625 [00:13<00:00, 192.44it/s]\n"
     ]
    },
    {
     "name": "stdout",
     "output_type": "stream",
     "text": [
      "Epoch: 17 - Train Loss: 0.004365602945731509\n"
     ]
    },
    {
     "name": "stderr",
     "output_type": "stream",
     "text": [
      "100%|██████████| 2625/2625 [00:13<00:00, 191.36it/s]\n"
     ]
    },
    {
     "name": "stdout",
     "output_type": "stream",
     "text": [
      "Epoch: 18 - Train Loss: 0.004354568768647455\n"
     ]
    },
    {
     "name": "stderr",
     "output_type": "stream",
     "text": [
      "100%|██████████| 2625/2625 [00:13<00:00, 200.22it/s]\n"
     ]
    },
    {
     "name": "stdout",
     "output_type": "stream",
     "text": [
      "Epoch: 19 - Train Loss: 0.004342729977465102\n"
     ]
    },
    {
     "name": "stderr",
     "output_type": "stream",
     "text": [
      "100%|██████████| 2625/2625 [00:13<00:00, 193.99it/s]\n"
     ]
    },
    {
     "name": "stdout",
     "output_type": "stream",
     "text": [
      "Epoch: 20 - Train Loss: 0.0043384991237627605\n"
     ]
    },
    {
     "name": "stderr",
     "output_type": "stream",
     "text": [
      "100%|██████████| 2625/2625 [00:13<00:00, 194.98it/s]\n"
     ]
    },
    {
     "name": "stdout",
     "output_type": "stream",
     "text": [
      "Epoch: 21 - Train Loss: 0.004335231950506568\n"
     ]
    },
    {
     "name": "stderr",
     "output_type": "stream",
     "text": [
      "100%|██████████| 2625/2625 [00:13<00:00, 199.40it/s]\n"
     ]
    },
    {
     "name": "stdout",
     "output_type": "stream",
     "text": [
      "Epoch: 22 - Train Loss: 0.004325452825852802\n"
     ]
    },
    {
     "name": "stderr",
     "output_type": "stream",
     "text": [
      "100%|██████████| 2625/2625 [00:13<00:00, 195.39it/s]\n"
     ]
    },
    {
     "name": "stdout",
     "output_type": "stream",
     "text": [
      "Epoch: 23 - Train Loss: 0.004314492090472153\n"
     ]
    },
    {
     "name": "stderr",
     "output_type": "stream",
     "text": [
      "100%|██████████| 2625/2625 [00:10<00:00, 254.47it/s]\n"
     ]
    },
    {
     "name": "stdout",
     "output_type": "stream",
     "text": [
      "Epoch: 24 - Train Loss: 0.004315048646891401\n"
     ]
    },
    {
     "name": "stderr",
     "output_type": "stream",
     "text": [
      "100%|██████████| 2625/2625 [00:13<00:00, 195.33it/s]"
     ]
    },
    {
     "name": "stdout",
     "output_type": "stream",
     "text": [
      "Epoch: 25 - Train Loss: 0.0043096807071318225\n"
     ]
    },
    {
     "name": "stderr",
     "output_type": "stream",
     "text": [
      "\n"
     ]
    }
   ],
   "source": [
    "for i in range(EPOCHS):\n",
    "    \n",
    "    train_loss = 0.0\n",
    "    \n",
    "    model.train()\n",
    "    for batch in tqdm(trainloader):\n",
    "        \n",
    "        orig_image, noisy_image = batch\n",
    "        \n",
    "        orig_image = orig_image.to(DEVICE)\n",
    "        noisy_image = noisy_image.to(DEVICE)\n",
    "\n",
    "        denoised_image = model(noisy_image)\n",
    "        loss = criterion(denoised_image, orig_image)\n",
    "        \n",
    "        optimizer.zero_grad()\n",
    "        loss.backward()\n",
    "        optimizer.step()\n",
    "        \n",
    "        train_loss += loss.item()\n",
    "        \n",
    "    avg_train_loss = train_loss / len(trainloader)\n",
    "    \n",
    "    print(f\"Epoch: {i+1} - Train Loss: {avg_train_loss}\")"
   ]
  },
  {
   "cell_type": "markdown",
   "id": "b5ba34ef-e33d-4617-8b51-26dd8b69651a",
   "metadata": {},
   "source": [
    "### PLOT RESULTS"
   ]
  },
  {
   "cell_type": "code",
   "execution_count": 138,
   "id": "4b6a451f-29dc-499d-816a-a723d6b5f2fa",
   "metadata": {
    "tags": []
   },
   "outputs": [
    {
     "name": "stdout",
     "output_type": "stream",
     "text": [
      "Shape of denoised images: torch.Size([1, 1, 28, 28]) \n"
     ]
    },
    {
     "data": {
      "image/png": "[encoded data removed]",
      "text/plain": [
       "<Figure size 1000x500 with 3 Axes>"
      ]
     },
     "metadata": {},
     "output_type": "display_data"
    }
   ],
   "source": [
    "model.eval()\n",
    "model.to(DEVICE)\n",
    "\n",
    "with torch.no_grad():\n",
    "\n",
    "    dataiter = iter(trainloader)\n",
    "    sample = next(dataiter)\n",
    "    \n",
    "    orig_image, noisy_image = sample\n",
    "\n",
    "    idx = 2\n",
    "\n",
    "    orig_image = orig_image.to(DEVICE)\n",
    "    noisy_image = noisy_image.to(DEVICE)\n",
    "\n",
    "    denoised_image = model(noisy_image[idx].unsqueeze(0)) # (c ,h, w) -> (batch, c, h, w)\n",
    "\n",
    "    print(f\"Shape of denoised images: {denoised_image.shape} \")\n",
    "\n",
    "    helper.show_image(orig_image[idx].squeeze(0), \n",
    "                      noisy_image[idx].squeeze(0), \n",
    "                      denoised_image[0].squeeze(0))"
   ]
  }
 ],
 "metadata": {
  "kernelspec": {
   "display_name": "Python 3.9.13",
   "language": "python",
   "name": "python3"
  },
  "language_info": {
   "codemirror_mode": {
    "name": "ipython",
    "version": 3
   },
   "file_extension": ".py",
   "mimetype": "text/x-python",
   "name": "python",
   "nbconvert_exporter": "python",
   "pygments_lexer": "ipython3",
   "version": "3.9.13"
  }
 },
 "nbformat": 4,
 "nbformat_minor": 5
}
